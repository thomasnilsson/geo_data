{
 "cells": [
  {
   "cell_type": "markdown",
   "metadata": {},
   "source": [
    "# ANDROID"
   ]
  },
  {
   "cell_type": "code",
   "execution_count": 97,
   "metadata": {},
   "outputs": [
    {
     "data": {
      "text/html": [
       "<div>\n",
       "<style scoped>\n",
       "    .dataframe tbody tr th:only-of-type {\n",
       "        vertical-align: middle;\n",
       "    }\n",
       "\n",
       "    .dataframe tbody tr th {\n",
       "        vertical-align: top;\n",
       "    }\n",
       "\n",
       "    .dataframe thead th {\n",
       "        text-align: right;\n",
       "    }\n",
       "</style>\n",
       "<table border=\"1\" class=\"dataframe\">\n",
       "  <thead>\n",
       "    <tr style=\"text-align: right;\">\n",
       "      <th></th>\n",
       "      <th>time</th>\n",
       "      <th>lat</th>\n",
       "      <th>lon</th>\n",
       "    </tr>\n",
       "  </thead>\n",
       "  <tbody>\n",
       "    <tr>\n",
       "      <th>0</th>\n",
       "      <td>1612876463429</td>\n",
       "      <td>55.683065</td>\n",
       "      <td>12.490834</td>\n",
       "    </tr>\n",
       "    <tr>\n",
       "      <th>1</th>\n",
       "      <td>1612876468528</td>\n",
       "      <td>55.683065</td>\n",
       "      <td>12.490834</td>\n",
       "    </tr>\n",
       "    <tr>\n",
       "      <th>2</th>\n",
       "      <td>1612876470803</td>\n",
       "      <td>55.683075</td>\n",
       "      <td>12.490826</td>\n",
       "    </tr>\n",
       "    <tr>\n",
       "      <th>3</th>\n",
       "      <td>1612876472000</td>\n",
       "      <td>55.683098</td>\n",
       "      <td>12.490819</td>\n",
       "    </tr>\n",
       "    <tr>\n",
       "      <th>4</th>\n",
       "      <td>1612876473000</td>\n",
       "      <td>55.683092</td>\n",
       "      <td>12.490815</td>\n",
       "    </tr>\n",
       "  </tbody>\n",
       "</table>\n",
       "</div>"
      ],
      "text/plain": [
       "            time        lat        lon\n",
       "0  1612876463429  55.683065  12.490834\n",
       "1  1612876468528  55.683065  12.490834\n",
       "2  1612876470803  55.683075  12.490826\n",
       "3  1612876472000  55.683098  12.490819\n",
       "4  1612876473000  55.683092  12.490815"
      ]
     },
     "execution_count": 97,
     "metadata": {},
     "output_type": "execute_result"
    }
   ],
   "source": [
    "import json\n",
    "\n",
    "f = open('android.json',) \n",
    "data = json.load(f)['data']\n",
    "df = pd.DataFrame(data)\n",
    "df.head()"
   ]
  },
  {
   "cell_type": "markdown",
   "metadata": {},
   "source": [
    "## Number of data points"
   ]
  },
  {
   "cell_type": "code",
   "execution_count": 98,
   "metadata": {},
   "outputs": [
    {
     "name": "stdout",
     "output_type": "stream",
     "text": [
      "No. data points: 1572\n",
      "Hours: 22.83152638888889\n",
      "Estimated points/24h: 1652.451936737816\n"
     ]
    },
    {
     "data": {
      "image/png": "[encoded data removed]",
      "text/plain": [
       "<Figure size 432x288 with 1 Axes>"
      ]
     },
     "metadata": {
      "needs_background": "light"
     },
     "output_type": "display_data"
    }
   ],
   "source": [
    "t = df.time.values\n",
    "hours = (t[-1] - t[0]) / (60 * 60 * 1000)\n",
    "print(\"No. data points:\", len(df))\n",
    "print(\"Hours:\", hours)\n",
    "\n",
    "print(\"Estimated points/24h:\", 24 * len(df) / hours)\n",
    "\n",
    "timestamps = pd.to_datetime(df.time, unit=\"ms\")\n",
    "plt.plot(timestamps)\n",
    "plt.title(\"ANDROID Sampling periods\")\n",
    "plt.show()"
   ]
  },
  {
   "cell_type": "markdown",
   "metadata": {},
   "source": [
    "## Plot to Maps"
   ]
  },
  {
   "cell_type": "code",
   "execution_count": 99,
   "metadata": {},
   "outputs": [],
   "source": [
    "import gmplot\n",
    "import matplotlib.pyplot as plt\n",
    "\n",
    "# Create map orientation centre\n",
    "lat_mean = df.lat.mean()\n",
    "lon_mean = df.lon.mean()\n",
    "\n",
    "# Create a Gmap Plot object\n",
    "gmap = gmplot.GoogleMapPlotter(lat_mean, lon_mean, 17)\n",
    "\n",
    "\n",
    "# Plot place with a radius\n",
    "gmap.scatter(df.lat, df.lon, color='red', size=15, marker=False)\n",
    "\n",
    "# Draw map object\n",
    "gmap.draw('android_map.html')"
   ]
  },
  {
   "cell_type": "markdown",
   "metadata": {},
   "source": [
    "# IOS"
   ]
  },
  {
   "cell_type": "code",
   "execution_count": 106,
   "metadata": {},
   "outputs": [
    {
     "data": {
      "text/html": [
       "<div>\n",
       "<style scoped>\n",
       "    .dataframe tbody tr th:only-of-type {\n",
       "        vertical-align: middle;\n",
       "    }\n",
       "\n",
       "    .dataframe tbody tr th {\n",
       "        vertical-align: top;\n",
       "    }\n",
       "\n",
       "    .dataframe thead th {\n",
       "        text-align: right;\n",
       "    }\n",
       "</style>\n",
       "<table border=\"1\" class=\"dataframe\">\n",
       "  <thead>\n",
       "    <tr style=\"text-align: right;\">\n",
       "      <th></th>\n",
       "      <th>time</th>\n",
       "      <th>lat</th>\n",
       "      <th>lon</th>\n",
       "    </tr>\n",
       "  </thead>\n",
       "  <tbody>\n",
       "    <tr>\n",
       "      <th>0</th>\n",
       "      <td>1612877301801</td>\n",
       "      <td>55.682995</td>\n",
       "      <td>12.490834</td>\n",
       "    </tr>\n",
       "    <tr>\n",
       "      <th>1</th>\n",
       "      <td>1612877307785</td>\n",
       "      <td>55.682992</td>\n",
       "      <td>12.490836</td>\n",
       "    </tr>\n",
       "    <tr>\n",
       "      <th>2</th>\n",
       "      <td>1612877312796</td>\n",
       "      <td>55.683057</td>\n",
       "      <td>12.490729</td>\n",
       "    </tr>\n",
       "    <tr>\n",
       "      <th>3</th>\n",
       "      <td>1612877318810</td>\n",
       "      <td>55.683009</td>\n",
       "      <td>12.490882</td>\n",
       "    </tr>\n",
       "    <tr>\n",
       "      <th>4</th>\n",
       "      <td>1612877324795</td>\n",
       "      <td>55.682980</td>\n",
       "      <td>12.490778</td>\n",
       "    </tr>\n",
       "  </tbody>\n",
       "</table>\n",
       "</div>"
      ],
      "text/plain": [
       "            time        lat        lon\n",
       "0  1612877301801  55.682995  12.490834\n",
       "1  1612877307785  55.682992  12.490836\n",
       "2  1612877312796  55.683057  12.490729\n",
       "3  1612877318810  55.683009  12.490882\n",
       "4  1612877324795  55.682980  12.490778"
      ]
     },
     "execution_count": 106,
     "metadata": {},
     "output_type": "execute_result"
    }
   ],
   "source": [
    "import json\n",
    "\n",
    "f = open('ios.json',) \n",
    "data = json.load(f)['data']\n",
    "df = pd.DataFrame(data)\n",
    "df.head()"
   ]
  },
  {
   "cell_type": "code",
   "execution_count": 107,
   "metadata": {},
   "outputs": [
    {
     "name": "stdout",
     "output_type": "stream",
     "text": [
      "No. data points: 2205\n",
      "Hours: 23.154776388888887\n",
      "Estimated points/24h: 2285.4895729156915\n"
     ]
    },
    {
     "data": {
      "image/png": "[encoded data removed]",
      "text/plain": [
       "<Figure size 432x288 with 1 Axes>"
      ]
     },
     "metadata": {
      "needs_background": "light"
     },
     "output_type": "display_data"
    }
   ],
   "source": [
    "t = df.time.values\n",
    "hours = (t[-1] - t[0]) / (60 * 60 * 1000)\n",
    "print(\"No. data points:\", len(df))\n",
    "print(\"Hours:\", hours)\n",
    "\n",
    "print(\"Estimated points/24h:\", 24 * len(df) / hours)\n",
    "\n",
    "timestamps = pd.to_datetime(df.time, unit=\"ms\")\n",
    "plt.plot(timestamps)\n",
    "plt.title(\"IOS Sampling periods\")\n",
    "plt.show()"
   ]
  },
  {
   "cell_type": "code",
   "execution_count": 108,
   "metadata": {},
   "outputs": [],
   "source": [
    "import gmplot\n",
    "import matplotlib.pyplot as plt\n",
    "\n",
    "# Create map orientation centre\n",
    "lat_mean = df.lat.mean()\n",
    "lon_mean = df.lon.mean()\n",
    "\n",
    "# Create a Gmap Plot object\n",
    "gmap = gmplot.GoogleMapPlotter(lat_mean, lon_mean, 17)\n",
    "\n",
    "\n",
    "# Plot place with a radius\n",
    "gmap.scatter(df.lat, df.lon, color='red', size=15, marker=False)\n",
    "\n",
    "# Draw map object\n",
    "gmap.draw('ios_map.html')"
   ]
  },
  {
   "cell_type": "code",
   "execution_count": null,
   "metadata": {},
   "outputs": [],
   "source": []
  }
 ],
 "metadata": {
  "kernelspec": {
   "display_name": "Python 3",
   "language": "python",
   "name": "python3"
  },
  "language_info": {
   "codemirror_mode": {
    "name": "ipython",
    "version": 3
   },
   "file_extension": ".py",
   "mimetype": "text/x-python",
   "name": "python",
   "nbconvert_exporter": "python",
   "pygments_lexer": "ipython3",
   "version": "3.8.5"
  }
 },
 "nbformat": 4,
 "nbformat_minor": 4
}
